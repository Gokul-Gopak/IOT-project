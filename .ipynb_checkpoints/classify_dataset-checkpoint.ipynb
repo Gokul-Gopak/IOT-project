{
 "cells": [
  {
   "cell_type": "code",
   "execution_count": 1,
   "metadata": {},
   "outputs": [],
   "source": [
    "import os\n",
    "import shutil\n",
    "import glob\n",
    "from tqdm import tqdm"
   ]
  },
  {
   "cell_type": "code",
   "execution_count": 3,
   "metadata": {},
   "outputs": [
    {
     "name": "stderr",
     "output_type": "stream",
     "text": [
      "0it [00:00, ?it/s]\n",
      "100%|██████████| 3242/3242 [00:04<00:00, 742.75it/s]\n",
      "100%|██████████| 1114/1114 [00:01<00:00, 798.94it/s]\n",
      "100%|██████████| 679/679 [00:00<00:00, 755.32it/s]\n",
      "100%|██████████| 1069/1069 [00:01<00:00, 681.04it/s]\n",
      "100%|██████████| 736/736 [00:00<00:00, 753.52it/s]\n",
      "100%|██████████| 1012/1012 [00:01<00:00, 678.85it/s]\n",
      "100%|██████████| 624/624 [00:00<00:00, 746.30it/s]\n",
      "100%|██████████| 832/832 [00:01<00:00, 742.05it/s]\n",
      "100%|██████████| 387/387 [00:00<00:00, 744.74it/s]\n",
      "100%|██████████| 399/399 [00:00<00:00, 669.99it/s]\n",
      "100%|██████████| 1648/1648 [00:02<00:00, 672.43it/s]\n",
      "100%|██████████| 8728/8728 [00:13<00:00, 665.23it/s]\n",
      "100%|██████████| 3605/3605 [00:05<00:00, 671.76it/s]\n",
      "100%|██████████| 8884/8884 [00:13<00:00, 658.60it/s]\n",
      "100%|██████████| 1132/1132 [00:01<00:00, 666.49it/s]\n",
      "100%|██████████| 1888/1888 [00:02<00:00, 729.70it/s]\n",
      "100%|██████████| 1648/1648 [00:02<00:00, 707.64it/s]\n",
      "100%|██████████| 4410/4410 [00:07<00:00, 619.80it/s]\n",
      "100%|██████████| 6175/6175 [00:10<00:00, 611.06it/s]\n",
      "100%|██████████| 704/704 [00:01<00:00, 547.12it/s]\n",
      "100%|██████████| 987/987 [00:01<00:00, 639.17it/s]\n",
      "100%|██████████| 382/382 [00:00<00:00, 590.77it/s]\n",
      "100%|██████████| 522/522 [00:00<00:00, 565.94it/s]\n",
      "100%|██████████| 752/752 [00:01<00:00, 650.99it/s]\n",
      "100%|██████████| 1502/1502 [00:02<00:00, 578.42it/s]\n",
      "100%|██████████| 1246/1246 [00:02<00:00, 601.68it/s]\n",
      "100%|██████████| 665/665 [00:00<00:00, 692.84it/s]\n",
      "100%|██████████| 736/736 [00:01<00:00, 506.49it/s]\n",
      "100%|██████████| 1393/1393 [00:02<00:00, 624.76it/s]\n",
      "100%|██████████| 1384/1384 [00:01<00:00, 693.22it/s]\n",
      "100%|██████████| 1738/1738 [00:02<00:00, 667.08it/s]\n",
      "100%|██████████| 6162/6162 [00:09<00:00, 658.98it/s]\n",
      "100%|██████████| 681/681 [00:01<00:00, 591.84it/s]\n",
      "100%|██████████| 739/739 [00:01<00:00, 638.75it/s]\n",
      "100%|██████████| 642/642 [00:00<00:00, 646.93it/s]\n",
      "100%|██████████| 6193/6193 [00:08<00:00, 709.57it/s]\n",
      "100%|██████████| 10257/10257 [00:14<00:00, 685.10it/s]\n"
     ]
    }
   ],
   "source": [
    "Raw_DIR= r'C:\\Users\\Gokul\\Desktop\\IOT PROJ\\Dataset'\n",
    "for dirpath, dirname, filenames in os.walk(Raw_DIR):\n",
    "    for i in tqdm([f for f in filenames if f.endswith('.png')]):\n",
    "        if i.split('_')[4]=='0':\n",
    "            shutil.copy(src=dirpath+'/'+i, dst=r'C:\\Users\\Gokul\\Desktop\\IOT PROJ\\Prepared_dataset\\close_eye')\n",
    "        \n",
    "        elif i.split('_')[4]=='1':\n",
    "            shutil.copy(src=dirpath+'/'+i, dst=r'C:\\Users\\Gokul\\Desktop\\IOT PROJ\\Prepared_dataset\\open_eye')\n"
   ]
  },
  {
   "cell_type": "code",
   "execution_count": null,
   "metadata": {},
   "outputs": [],
   "source": []
  },
  {
   "cell_type": "code",
   "execution_count": null,
   "metadata": {},
   "outputs": [],
   "source": []
  },
  {
   "cell_type": "code",
   "execution_count": null,
   "metadata": {},
   "outputs": [],
   "source": []
  },
  {
   "cell_type": "code",
   "execution_count": null,
   "metadata": {},
   "outputs": [],
   "source": []
  },
  {
   "cell_type": "code",
   "execution_count": null,
   "metadata": {},
   "outputs": [],
   "source": []
  }
 ],
 "metadata": {
  "kernelspec": {
   "display_name": "Python 3",
   "language": "python",
   "name": "python3"
  },
  "language_info": {
   "codemirror_mode": {
    "name": "ipython",
    "version": 3
   },
   "file_extension": ".py",
   "mimetype": "text/x-python",
   "name": "python",
   "nbconvert_exporter": "python",
   "pygments_lexer": "ipython3",
   "version": "3.8.3"
  }
 },
 "nbformat": 4,
 "nbformat_minor": 4
}
